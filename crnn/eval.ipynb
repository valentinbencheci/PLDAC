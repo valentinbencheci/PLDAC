{
 "cells": [
  {
   "cell_type": "code",
   "execution_count": 2,
   "metadata": {},
   "outputs": [
    {
     "ename": "FileNotFoundError",
     "evalue": "[Errno 2] No such file or directory: '../data/BirdVoxDCASE20k_csvpublic.csv'",
     "output_type": "error",
     "traceback": [
      "\u001b[1;31m---------------------------------------------------------------------------\u001b[0m",
      "\u001b[1;31mFileNotFoundError\u001b[0m                         Traceback (most recent call last)",
      "Cell \u001b[1;32mIn[2], line 13\u001b[0m\n\u001b[0;32m     11\u001b[0m warblrb10k \u001b[39m=\u001b[39m AudioDataset(csv_file\u001b[39m=\u001b[39m\u001b[39m\"\u001b[39m\u001b[39m../data/warblrb10k_public_metadata.csv\u001b[39m\u001b[39m\"\u001b[39m, audio_dir\u001b[39m=\u001b[39m\u001b[39m\"\u001b[39m\u001b[39m../data/warblrb10k_public/wav/\u001b[39m\u001b[39m\"\u001b[39m)\n\u001b[0;32m     12\u001b[0m ff1010 \u001b[39m=\u001b[39m AudioDataset(csv_file\u001b[39m=\u001b[39m\u001b[39m\"\u001b[39m\u001b[39m../data/ff1010bird_metadata.csv\u001b[39m\u001b[39m\"\u001b[39m, audio_dir\u001b[39m=\u001b[39m\u001b[39m\"\u001b[39m\u001b[39m../data/ff1010bird/wav/\u001b[39m\u001b[39m\"\u001b[39m)\n\u001b[1;32m---> 13\u001b[0m birdvox \u001b[39m=\u001b[39m AudioDataset(csv_file\u001b[39m=\u001b[39;49m\u001b[39m\"\u001b[39;49m\u001b[39m../data/BirdVoxDCASE20k_csvpublic.csv\u001b[39;49m\u001b[39m\"\u001b[39;49m, audio_dir\u001b[39m=\u001b[39;49m\u001b[39m\"\u001b[39;49m\u001b[39m../data/BirdVox-DCASE-20k/wav\u001b[39;49m\u001b[39m\"\u001b[39;49m)\n\u001b[0;32m     15\u001b[0m test_dataset \u001b[39m=\u001b[39m ConcatDataset([warblrb10k, ff1010, birdvox])\n\u001b[0;32m     17\u001b[0m \u001b[39m# create a DataLoader object to iterate over the test dataset\u001b[39;00m\n",
      "File \u001b[1;32md:\\~Perso\\Etudes\\DAC\\PLDAC\\crnn\\data.py:24\u001b[0m, in \u001b[0;36mAudioDataset.__init__\u001b[1;34m(self, csv_file, audio_dir, transform, data_slice)\u001b[0m\n\u001b[0;32m     16\u001b[0m \u001b[39mdef\u001b[39;00m \u001b[39m__init__\u001b[39m(\n\u001b[0;32m     17\u001b[0m     \u001b[39mself\u001b[39m,\n\u001b[0;32m     18\u001b[0m     csv_file,\n\u001b[1;32m   (...)\u001b[0m\n\u001b[0;32m     22\u001b[0m     data_slice\u001b[39m=\u001b[39m\u001b[39mNone\u001b[39;00m,\n\u001b[0;32m     23\u001b[0m ):\n\u001b[1;32m---> 24\u001b[0m     \u001b[39mself\u001b[39m\u001b[39m.\u001b[39mdata \u001b[39m=\u001b[39m pd\u001b[39m.\u001b[39;49mread_csv(csv_file, delimiter\u001b[39m=\u001b[39;49m\u001b[39m\"\u001b[39;49m\u001b[39m,\u001b[39;49m\u001b[39m\"\u001b[39;49m, header\u001b[39m=\u001b[39;49m\u001b[39m0\u001b[39;49m)\n\u001b[0;32m     25\u001b[0m     \u001b[39mif\u001b[39;00m data_slice:\n\u001b[0;32m     26\u001b[0m         \u001b[39mself\u001b[39m\u001b[39m.\u001b[39mdata \u001b[39m=\u001b[39m \u001b[39mself\u001b[39m\u001b[39m.\u001b[39mdata\u001b[39m.\u001b[39msample(frac\u001b[39m=\u001b[39mdata_slice \u001b[39m/\u001b[39m \u001b[39m100\u001b[39m)\u001b[39m.\u001b[39mreset_index(drop\u001b[39m=\u001b[39m\u001b[39mTrue\u001b[39;00m)\n",
      "File \u001b[1;32mc:\\Users\\Valinquish\\miniconda3\\envs\\pldac\\lib\\site-packages\\pandas\\io\\parsers\\readers.py:912\u001b[0m, in \u001b[0;36mread_csv\u001b[1;34m(filepath_or_buffer, sep, delimiter, header, names, index_col, usecols, dtype, engine, converters, true_values, false_values, skipinitialspace, skiprows, skipfooter, nrows, na_values, keep_default_na, na_filter, verbose, skip_blank_lines, parse_dates, infer_datetime_format, keep_date_col, date_parser, date_format, dayfirst, cache_dates, iterator, chunksize, compression, thousands, decimal, lineterminator, quotechar, quoting, doublequote, escapechar, comment, encoding, encoding_errors, dialect, on_bad_lines, delim_whitespace, low_memory, memory_map, float_precision, storage_options, dtype_backend)\u001b[0m\n\u001b[0;32m    899\u001b[0m kwds_defaults \u001b[39m=\u001b[39m _refine_defaults_read(\n\u001b[0;32m    900\u001b[0m     dialect,\n\u001b[0;32m    901\u001b[0m     delimiter,\n\u001b[1;32m   (...)\u001b[0m\n\u001b[0;32m    908\u001b[0m     dtype_backend\u001b[39m=\u001b[39mdtype_backend,\n\u001b[0;32m    909\u001b[0m )\n\u001b[0;32m    910\u001b[0m kwds\u001b[39m.\u001b[39mupdate(kwds_defaults)\n\u001b[1;32m--> 912\u001b[0m \u001b[39mreturn\u001b[39;00m _read(filepath_or_buffer, kwds)\n",
      "File \u001b[1;32mc:\\Users\\Valinquish\\miniconda3\\envs\\pldac\\lib\\site-packages\\pandas\\io\\parsers\\readers.py:577\u001b[0m, in \u001b[0;36m_read\u001b[1;34m(filepath_or_buffer, kwds)\u001b[0m\n\u001b[0;32m    574\u001b[0m _validate_names(kwds\u001b[39m.\u001b[39mget(\u001b[39m\"\u001b[39m\u001b[39mnames\u001b[39m\u001b[39m\"\u001b[39m, \u001b[39mNone\u001b[39;00m))\n\u001b[0;32m    576\u001b[0m \u001b[39m# Create the parser.\u001b[39;00m\n\u001b[1;32m--> 577\u001b[0m parser \u001b[39m=\u001b[39m TextFileReader(filepath_or_buffer, \u001b[39m*\u001b[39m\u001b[39m*\u001b[39mkwds)\n\u001b[0;32m    579\u001b[0m \u001b[39mif\u001b[39;00m chunksize \u001b[39mor\u001b[39;00m iterator:\n\u001b[0;32m    580\u001b[0m     \u001b[39mreturn\u001b[39;00m parser\n",
      "File \u001b[1;32mc:\\Users\\Valinquish\\miniconda3\\envs\\pldac\\lib\\site-packages\\pandas\\io\\parsers\\readers.py:1407\u001b[0m, in \u001b[0;36mTextFileReader.__init__\u001b[1;34m(self, f, engine, **kwds)\u001b[0m\n\u001b[0;32m   1404\u001b[0m     \u001b[39mself\u001b[39m\u001b[39m.\u001b[39moptions[\u001b[39m\"\u001b[39m\u001b[39mhas_index_names\u001b[39m\u001b[39m\"\u001b[39m] \u001b[39m=\u001b[39m kwds[\u001b[39m\"\u001b[39m\u001b[39mhas_index_names\u001b[39m\u001b[39m\"\u001b[39m]\n\u001b[0;32m   1406\u001b[0m \u001b[39mself\u001b[39m\u001b[39m.\u001b[39mhandles: IOHandles \u001b[39m|\u001b[39m \u001b[39mNone\u001b[39;00m \u001b[39m=\u001b[39m \u001b[39mNone\u001b[39;00m\n\u001b[1;32m-> 1407\u001b[0m \u001b[39mself\u001b[39m\u001b[39m.\u001b[39m_engine \u001b[39m=\u001b[39m \u001b[39mself\u001b[39;49m\u001b[39m.\u001b[39;49m_make_engine(f, \u001b[39mself\u001b[39;49m\u001b[39m.\u001b[39;49mengine)\n",
      "File \u001b[1;32mc:\\Users\\Valinquish\\miniconda3\\envs\\pldac\\lib\\site-packages\\pandas\\io\\parsers\\readers.py:1661\u001b[0m, in \u001b[0;36mTextFileReader._make_engine\u001b[1;34m(self, f, engine)\u001b[0m\n\u001b[0;32m   1659\u001b[0m     \u001b[39mif\u001b[39;00m \u001b[39m\"\u001b[39m\u001b[39mb\u001b[39m\u001b[39m\"\u001b[39m \u001b[39mnot\u001b[39;00m \u001b[39min\u001b[39;00m mode:\n\u001b[0;32m   1660\u001b[0m         mode \u001b[39m+\u001b[39m\u001b[39m=\u001b[39m \u001b[39m\"\u001b[39m\u001b[39mb\u001b[39m\u001b[39m\"\u001b[39m\n\u001b[1;32m-> 1661\u001b[0m \u001b[39mself\u001b[39m\u001b[39m.\u001b[39mhandles \u001b[39m=\u001b[39m get_handle(\n\u001b[0;32m   1662\u001b[0m     f,\n\u001b[0;32m   1663\u001b[0m     mode,\n\u001b[0;32m   1664\u001b[0m     encoding\u001b[39m=\u001b[39;49m\u001b[39mself\u001b[39;49m\u001b[39m.\u001b[39;49moptions\u001b[39m.\u001b[39;49mget(\u001b[39m\"\u001b[39;49m\u001b[39mencoding\u001b[39;49m\u001b[39m\"\u001b[39;49m, \u001b[39mNone\u001b[39;49;00m),\n\u001b[0;32m   1665\u001b[0m     compression\u001b[39m=\u001b[39;49m\u001b[39mself\u001b[39;49m\u001b[39m.\u001b[39;49moptions\u001b[39m.\u001b[39;49mget(\u001b[39m\"\u001b[39;49m\u001b[39mcompression\u001b[39;49m\u001b[39m\"\u001b[39;49m, \u001b[39mNone\u001b[39;49;00m),\n\u001b[0;32m   1666\u001b[0m     memory_map\u001b[39m=\u001b[39;49m\u001b[39mself\u001b[39;49m\u001b[39m.\u001b[39;49moptions\u001b[39m.\u001b[39;49mget(\u001b[39m\"\u001b[39;49m\u001b[39mmemory_map\u001b[39;49m\u001b[39m\"\u001b[39;49m, \u001b[39mFalse\u001b[39;49;00m),\n\u001b[0;32m   1667\u001b[0m     is_text\u001b[39m=\u001b[39;49mis_text,\n\u001b[0;32m   1668\u001b[0m     errors\u001b[39m=\u001b[39;49m\u001b[39mself\u001b[39;49m\u001b[39m.\u001b[39;49moptions\u001b[39m.\u001b[39;49mget(\u001b[39m\"\u001b[39;49m\u001b[39mencoding_errors\u001b[39;49m\u001b[39m\"\u001b[39;49m, \u001b[39m\"\u001b[39;49m\u001b[39mstrict\u001b[39;49m\u001b[39m\"\u001b[39;49m),\n\u001b[0;32m   1669\u001b[0m     storage_options\u001b[39m=\u001b[39;49m\u001b[39mself\u001b[39;49m\u001b[39m.\u001b[39;49moptions\u001b[39m.\u001b[39;49mget(\u001b[39m\"\u001b[39;49m\u001b[39mstorage_options\u001b[39;49m\u001b[39m\"\u001b[39;49m, \u001b[39mNone\u001b[39;49;00m),\n\u001b[0;32m   1670\u001b[0m )\n\u001b[0;32m   1671\u001b[0m \u001b[39massert\u001b[39;00m \u001b[39mself\u001b[39m\u001b[39m.\u001b[39mhandles \u001b[39mis\u001b[39;00m \u001b[39mnot\u001b[39;00m \u001b[39mNone\u001b[39;00m\n\u001b[0;32m   1672\u001b[0m f \u001b[39m=\u001b[39m \u001b[39mself\u001b[39m\u001b[39m.\u001b[39mhandles\u001b[39m.\u001b[39mhandle\n",
      "File \u001b[1;32mc:\\Users\\Valinquish\\miniconda3\\envs\\pldac\\lib\\site-packages\\pandas\\io\\common.py:859\u001b[0m, in \u001b[0;36mget_handle\u001b[1;34m(path_or_buf, mode, encoding, compression, memory_map, is_text, errors, storage_options)\u001b[0m\n\u001b[0;32m    854\u001b[0m \u001b[39melif\u001b[39;00m \u001b[39misinstance\u001b[39m(handle, \u001b[39mstr\u001b[39m):\n\u001b[0;32m    855\u001b[0m     \u001b[39m# Check whether the filename is to be opened in binary mode.\u001b[39;00m\n\u001b[0;32m    856\u001b[0m     \u001b[39m# Binary mode does not support 'encoding' and 'newline'.\u001b[39;00m\n\u001b[0;32m    857\u001b[0m     \u001b[39mif\u001b[39;00m ioargs\u001b[39m.\u001b[39mencoding \u001b[39mand\u001b[39;00m \u001b[39m\"\u001b[39m\u001b[39mb\u001b[39m\u001b[39m\"\u001b[39m \u001b[39mnot\u001b[39;00m \u001b[39min\u001b[39;00m ioargs\u001b[39m.\u001b[39mmode:\n\u001b[0;32m    858\u001b[0m         \u001b[39m# Encoding\u001b[39;00m\n\u001b[1;32m--> 859\u001b[0m         handle \u001b[39m=\u001b[39m \u001b[39mopen\u001b[39;49m(\n\u001b[0;32m    860\u001b[0m             handle,\n\u001b[0;32m    861\u001b[0m             ioargs\u001b[39m.\u001b[39;49mmode,\n\u001b[0;32m    862\u001b[0m             encoding\u001b[39m=\u001b[39;49mioargs\u001b[39m.\u001b[39;49mencoding,\n\u001b[0;32m    863\u001b[0m             errors\u001b[39m=\u001b[39;49merrors,\n\u001b[0;32m    864\u001b[0m             newline\u001b[39m=\u001b[39;49m\u001b[39m\"\u001b[39;49m\u001b[39m\"\u001b[39;49m,\n\u001b[0;32m    865\u001b[0m         )\n\u001b[0;32m    866\u001b[0m     \u001b[39melse\u001b[39;00m:\n\u001b[0;32m    867\u001b[0m         \u001b[39m# Binary mode\u001b[39;00m\n\u001b[0;32m    868\u001b[0m         handle \u001b[39m=\u001b[39m \u001b[39mopen\u001b[39m(handle, ioargs\u001b[39m.\u001b[39mmode)\n",
      "\u001b[1;31mFileNotFoundError\u001b[0m: [Errno 2] No such file or directory: '../data/BirdVoxDCASE20k_csvpublic.csv'"
     ]
    }
   ],
   "source": [
    "from data import AudioDataset\n",
    "from model import CRNN\n",
    "from tqdm import tqdm\n",
    "import torch\n",
    "from torch.utils.data import DataLoader, ConcatDataset\n",
    "import matplotlib.pyplot as plt\n",
    "from sklearn.metrics import roc_auc_score, accuracy_score, f1_score, confusion_matrix, ConfusionMatrixDisplay\n",
    "\n",
    "\n",
    "# create a new instance of the AudioDataset class for the test set\n",
    "warblrb10k = AudioDataset(csv_file=\"../data/warblrb10k_public_metadata.csv\", audio_dir=\"../data/warblrb10k_public/wav/\")\n",
    "ff1010 = AudioDataset(csv_file=\"../data/ff1010bird_metadata.csv\", audio_dir=\"../data/ff1010bird/wav/\")\n",
    "birdvox = AudioDataset(csv_file=\"../data/BirdVoxDCASE20k_csvpublic.csv\", audio_dir=\"../data/BirdVox-DCASE-20k/wav\")\n",
    "\n",
    "test_dataset = ConcatDataset([warblrb10k, ff1010, birdvox])\n",
    "\n",
    "# create a DataLoader object to iterate over the test dataset\n",
    "test_loader = DataLoader(test_dataset, batch_size=32, shuffle=True)\n"
   ]
  },
  {
   "cell_type": "code",
   "execution_count": null,
   "metadata": {},
   "outputs": [],
   "source": [
    "for data in [warblrb10k, ff1010, birdvox]:\n",
    "    # Load the trained model\n",
    "    device = torch.device(\"cuda\" if torch.cuda.is_available() else \"cpu\")\n",
    "    model = CRNN().to(device)\n",
    "    model.load_state_dict(torch.load(\"../models/model_GRU_ATTENTION_2023-05-16_13-09-03.pt\"))\n",
    "\n",
    "    # Evaluate the model on the validation set\n",
    "    model.eval()\n",
    "    val_preds = []\n",
    "    val_targets = []\n",
    "\n",
    "    print(\"Evaluating...\")\n",
    "    with torch.no_grad():\n",
    "        for inputs, labels in tqdm(test_loader):\n",
    "            inputs, labels = inputs.to(device), labels.to(device)\n",
    "            outputs = model(inputs)\n",
    "            preds = outputs.round()\n",
    "            val_preds.extend(preds.cpu().numpy())\n",
    "            val_targets.extend(labels.cpu().numpy())\n",
    "    print(\"Evaluating done!\")\n",
    "\n",
    "    print(f\"AUC: {roc_auc_score(val_targets, val_preds):.4f}\")\n",
    "    print(f\"Acc: {accuracy_score(val_targets, val_preds):.4f}\")\n",
    "    print(f\"F1: {f1_score(val_targets, val_preds):.4f}\")\n"
   ]
  },
  {
   "cell_type": "code",
   "execution_count": 4,
   "metadata": {},
   "outputs": [
    {
     "data": {
      "image/png": "[encoded data removed]",
      "text/plain": [
       "<Figure size 640x480 with 2 Axes>"
      ]
     },
     "metadata": {},
     "output_type": "display_data"
    }
   ],
   "source": [
    "cm = confusion_matrix(val_targets, val_preds)\n",
    "\n",
    "cm_display = ConfusionMatrixDisplay(cm).plot()\n",
    "\n",
    "# plt.savefig(\"figures/cm_display.png\", dpi=100, bbox_inches=\"tight\")"
   ]
  },
  {
   "attachments": {},
   "cell_type": "markdown",
   "metadata": {},
   "source": [
    "## Résultats\n",
    "### Nombre de features = 40\n",
    "\n",
    "Entrainé sur 50% de la totalité des données avec un rapport train/test 60/40 (`n_mels` = 40). Evaluation sur la totalité :\n",
    "\n",
    "|     | freefield     | warbrl | birdvox | ensemble |\n",
    "|-----|:-------------:|:------:|:-------:|:--------:|\n",
    "| AUC | **0.8274**    | 0.7827 | 0.8316  | 0.8372   |\n",
    "| Acc | **0.8433**    | 0.8440 | 0.8315  | 0.8368   |\n",
    "| F1  | **0.7187**    | 0.8974 | 0.8111  | 0.8302   |\n",
    "\n",
    "Entrainé sur 100% de la totalité des données avec un rapport train/test 80/20 (`n_mels` = 40). Evaluation sur la totalité :\n",
    "\n",
    "|     | freefield | warbrl     | birdvox | ensemble |\n",
    "|-----|:---------:|:----------:|:-------:|:--------:|\n",
    "| AUC | 0.8395    | 0.8177     | 0.8904  | 0.8757   |\n",
    "| Acc | 0.8315    | **0.8816** | 0.8902  | 0.8757   |\n",
    "| F1  | 0.7187    | **0.9233** | 0.8832  | 0.8758   |\n",
    "\n",
    "### Nombre de features = 128\n",
    "\n",
    "Entrainé sur 50% de la totalité des données avec un rapport train/test 60/40 (AUC: ~95% en train, 84.1642% en test), avec la totalité des features (`n_mels` = 128). Evaluation sur la totalité :\n",
    "\n",
    "|     | freefield | warbrl     | birdvox     | ensemble     |\n",
    "|-----|:---------:|:----------:|:-----------:|:------------:|\n",
    "| AUC | 0.8058    | **0.7922** | **0.8693**  | **0.8469**   |\n",
    "| Acc | 0.7713    | **0.8638** | **0.8691**  | **0.8468**   |\n",
    "| F1  | 0.6582    | **0.9118** | **0.8562**  | **0.8469**   |\n",
    "\n",
    "Entrainé sur 100% de la totalité des données avec un rapport train/test 80/20 (AUC : ~92% en train, ~87% en test), avec la totalité des features (`n_mels` = 128).\n",
    "Evaluation sur la totalité :\n",
    "\n",
    "|     | freefield     | warbrl     | birdvox     | ensemble     |\n",
    "|-----|:-------------:|:----------:|:-----------:|:------------:|\n",
    "| AUC | **0.8539**    | **0.8628** | **0.8962**  | **0.8875**   |\n",
    "| Acc | **0.8735**    | 0.8781     | **0.8961**  | **0.8872**   |\n",
    "| F1  | **0.7641**    | 0.9172     | **0.8881**  | **0.8832**   |"
   ]
  },
  {
   "attachments": {},
   "cell_type": "markdown",
   "metadata": {},
   "source": [
    "## Architecture\n",
    "\n",
    "\n",
    "    Input : 40 x 500 (40 log mel-band energies over 500 frames)\n",
    "\n",
    "Note : chaque couche convolutionnelle sont activées avec une fonction ReLU, sont batch normalized (BatchNorm) et un dropout est utilisé.\n",
    "\n",
    "Couches convolutionnelles (au nombre de 4, 96 feature maps) : \n",
    "\n",
    "    Conv (5 x 5)      96 x 40 x 500\n",
    "    MaxPool (5 x 1)   96 x 8 x 500\n",
    "\n",
    "    Conv (5 x 5)      96 x 8 x 500\n",
    "    MaxPool (2 x 1)   96 x 4 x 500\n",
    "\n",
    "    Conv (5 x 5)      96 x 4 x 500\n",
    "    MaxPool (2 x 1)   96 x 2 x 500\n",
    "\n",
    "    Conv (5 x 5)      96 x 2 x 500\n",
    "    MaxPool (2 x 1)   96 x 1 x 500\n",
    "\n",
    "Couche récurrente :\n",
    "\n",
    "    GRU               96 x 500\n",
    "\n",
    "Max-pooling layer\n",
    "\n",
    "    AdaptiveMaxPool1d 96 x 1\n",
    "\n",
    "Feed-forward\n",
    "\n",
    "    Linear            1\n",
    "    Sigmoid           1\n"
   ]
  },
  {
   "attachments": {},
   "cell_type": "markdown",
   "metadata": {},
   "source": [
    "![reseau](figures/reseau.png)"
   ]
  },
  {
   "attachments": {},
   "cell_type": "markdown",
   "metadata": {},
   "source": [
    "\n",
    "    Input : 128 x 500 (128 log mel-band energies over 500 frames)\n",
    "\n",
    "Couches convolutionnelles (au nombre de 4, 96 feature maps) (seules différences avec l'architecture précédente : la taille d'entrée et la taille des kernels des deux premières couches de pooling) : \n",
    "\n",
    "    Conv (5 x 5)      96 x 128 x 500\n",
    "    MaxPool (8 x 1)   96 x 16 x 500\n",
    "\n",
    "    Conv (5 x 5)      96 x 16 x 500\n",
    "    MaxPool (4 x 1)   96 x 4 x 500\n",
    "\n",
    "    Conv (5 x 5)      96 x 4 x 500\n",
    "    MaxPool (2 x 1)   96 x 2 x 500\n",
    "\n",
    "    Conv (5 x 5)      96 x 2 x 500\n",
    "    MaxPool (2 x 1)   96 x 1 x 500\n",
    "\n",
    "\n",
    "Le reste est identique.\n"
   ]
  },
  {
   "attachments": {},
   "cell_type": "markdown",
   "metadata": {},
   "source": [
    "### Notes\n",
    "\n",
    "A **gated recurrent unit (GRU)** is a type of recurrent neural network (RNN) layer designed to address the vanishing gradient problem commonly faced in standard RNNs. The vanishing gradient problem arises when the gradients of the loss function with respect to the weights become very small during backpropagation, making it difficult for the network to learn long-term dependencies in the input data.\n",
    "\n",
    "The GRU consists of two main gating mechanisms: the update gate and the reset gate. These gates help the network decide how much of the past information to keep and how much of the new information to consider when updating its hidden state. This allows the GRU to learn and retain long-term dependencies more effectively than standard RNNs.\n",
    "\n",
    "When the authors mention \"2 gated recurrent unit (GRU) layers with 96 hidden units,\" they are referring to a neural network architecture that has two sequential GRU layers, each containing 96 hidden units. This architecture allows the network to capture and model the temporal dependencies in the audio signals more effectively, which is crucial for tasks like bird audio detection."
   ]
  },
  {
   "attachments": {},
   "cell_type": "markdown",
   "metadata": {},
   "source": [
    "**Batch normalization** is a technique used in training neural networks to standardize the inputs of each layer, i.e., to make sure that they have a mean output activation of zero and standard deviation of one. It is applied to the inputs of each layer before they are passed to the activation function.\n",
    "\n",
    "Batch normalization helps in two ways:\n",
    "- It reduces the problem known as \"internal covariate shift,\" where the distributions of each layer's inputs change during training as the weights of the previous layers change. This can slow down training and make it harder for the network to converge.\n",
    "- It allows each layer of the network to learn by itself a little more independently of other layers. It leads to faster training and reduces the sensitivity to initialization.\n",
    "\n",
    "**Dropout** is a regularization technique used in training neural networks to prevent overfitting. During training, dropout involves randomly \"dropping out,\" or deactivating, a number of outputs (neurons) in the layer during each training stage or iteration.\n",
    "\n",
    "Dropout has the following benefits:\n",
    "- It prevents complex co-adaptations on the training data by forcing the neurons to learn with a different \"brain\" configuration each time, which makes them more robust and less reliant on the presence of a few inputs.\n",
    "- It effectively trains a large number of networks with different architectures in parallel, and the final prediction is an ensemble of these networks, which often leads to better generalization.\n",
    "\n",
    "In convolutional layers, both batch normalization and dropout can help improve the robustness and generalization capability of the model. Batch normalization helps to standardize the layer inputs, making the training process more efficient, while dropout helps to make the model more robust and prevents overfitting by adding some form of noise or randomness to the layer outputs during training."
   ]
  },
  {
   "attachments": {},
   "cell_type": "markdown",
   "metadata": {},
   "source": [
    "A **temporal max-pooling layer** is a type of pooling layer applied to time-based data. In the context of the paper, it is used to process the output from the gated recurrent unit (GRU) layers. The primary function of the temporal max-pooling layer is to reduce the temporal dimension of the input data while preserving its most important features. This is achieved by taking the maximum value from a certain number of consecutive time frames (determined by the pooling size) and outputting a single value. By reducing the temporal dimension, the max-pooling layer helps to reduce the computational complexity and the number of parameters in the network, thus improving efficiency and mitigating overfitting."
   ]
  },
  {
   "attachments": {},
   "cell_type": "markdown",
   "metadata": {},
   "source": [
    "A **feedforward layer** is a basic component of an artificial neural network, consisting of multiple neurons (also called units or nodes) connected to the input data or the output of the previous layer. The primary function of a feedforward layer is to learn and apply a linear or non-linear transformation to the input data, helping to capture relationships or patterns within the data.\n",
    "\n",
    "A single feedforward layer refers to a neural network layer with only one neuron (unit). In the context of the paper, this single feedforward layer takes the output from the temporal max-pooling layer and applies a linear or non-linear transformation with sigmoid activation. The output of this single neuron represents the probability of bird audio presence in the given audio file. Since the task at hand is binary classification (bird calls present or absent), a single neuron in the feedforward layer is sufficient to produce the desired output."
   ]
  },
  {
   "attachments": {},
   "cell_type": "markdown",
   "metadata": {},
   "source": [
    "Bird sounds, or calls, typically occupy a specific, relatively narrow frequency range within the overall audio spectrum. In other words, bird calls are often characterized by certain frequency patterns that are distinguishable from other sounds.\n",
    "\n",
    "From a theoretical standpoint, it makes sense to concentrate on extracting features from this particular frequency range when analyzing audio for bird sounds, as it would likely yield the most relevant and discriminative features for the task. By focusing on the specific frequency range where bird sounds are most prevalent, one can potentially improve the accuracy and efficiency of the bird audio detection system.\n",
    "\n",
    "However, it is important to note that in the study, the authors found that using features from the entire frequency range provided better results than focusing only on the expected range for bird calls. This finding indicates that the complete frequency range still contains valuable information for the bird audio detection task.\n",
    "\n",
    "Stucture of bird song has large diversity. Typical song may contain components which are pure sinusoidal, harmonic, nonharmonic, broadband and noisy in structure. Frequency range is relatively small, typically fundamental frequency lies between 3 and 5 kHz. [[1]](http://legacy.spa.aalto.fi/research/avesound/pubs/akusem04.pdf)"
   ]
  },
  {
   "attachments": {},
   "cell_type": "markdown",
   "metadata": {},
   "source": []
  }
 ],
 "metadata": {
  "kernelspec": {
   "display_name": "base",
   "language": "python",
   "name": "python3"
  },
  "language_info": {
   "codemirror_mode": {
    "name": "ipython",
    "version": 3
   },
   "file_extension": ".py",
   "mimetype": "text/x-python",
   "name": "python",
   "nbconvert_exporter": "python",
   "pygments_lexer": "ipython3",
   "version": "3.10.10"
  },
  "orig_nbformat": 4
 },
 "nbformat": 4,
 "nbformat_minor": 2
}
