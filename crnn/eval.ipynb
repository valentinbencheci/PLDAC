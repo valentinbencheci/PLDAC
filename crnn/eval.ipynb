{
 "cells": [
  {
   "cell_type": "code",
   "execution_count": 1,
   "metadata": {},
   "outputs": [],
   "source": [
    "from data import AudioDataset\n",
    "from model import CRNN\n",
    "from tqdm import tqdm\n",
    "import torch\n",
    "from torch.utils.data import DataLoader, ConcatDataset\n",
    "import matplotlib.pyplot as plt\n",
    "\n",
    "# create a new instance of the AudioDataset class for the test set\n",
    "warblrb10k = AudioDataset(csv_file=\"../data/warblrb10k_public_metadata.csv\", audio_dir=\"../data/warblrb10k_public/wav/\")\n",
    "ff1010 = AudioDataset(csv_file=\"../data/ff1010bird_metadata.csv\", audio_dir=\"../data/ff1010bird/wav/\")\n",
    "birdvox = AudioDataset(csv_file=\"../data/BirdVoxDCASE20k_csvpublic.csv\", audio_dir=\"../data/BirdVox-DCASE-20k/wav\")\n",
    "\n",
    "test_dataset = ConcatDataset([warblrb10k, ff1010, birdvox])\n",
    "\n",
    "# create a DataLoader object to iterate over the test dataset\n",
    "test_loader = DataLoader(test_dataset, batch_size=32, shuffle=True)\n"
   ]
  },
  {
   "cell_type": "code",
   "execution_count": 2,
   "metadata": {},
   "outputs": [
    {
     "name": "stdout",
     "output_type": "stream",
     "text": [
      "Evaluating...\n"
     ]
    },
    {
     "name": "stderr",
     "output_type": "stream",
     "text": [
      "100%|██████████| 1116/1116 [14:57<00:00,  1.24it/s]"
     ]
    },
    {
     "name": "stdout",
     "output_type": "stream",
     "text": [
      "Evaluating done!\n"
     ]
    },
    {
     "name": "stderr",
     "output_type": "stream",
     "text": [
      "\n"
     ]
    }
   ],
   "source": [
    "# Load the trained model\n",
    "device = torch.device(\"cuda\" if torch.cuda.is_available() else \"cpu\")\n",
    "model = CRNN().to(device)\n",
    "model.load_state_dict(torch.load(\"best_model_a100.pt\"))\n",
    "\n",
    "# Evaluate the model on the validation set\n",
    "model.eval()\n",
    "val_preds = []\n",
    "val_targets = []\n",
    "\n",
    "print(\"Evaluating...\")\n",
    "with torch.no_grad():\n",
    "    for inputs, labels in tqdm(test_loader):\n",
    "        inputs, labels = inputs.to(device), labels.to(device)\n",
    "        outputs = model(inputs)\n",
    "        preds = outputs.round()\n",
    "        val_preds.extend(preds.cpu().numpy())\n",
    "        val_targets.extend(labels.cpu().numpy())\n",
    "print(\"Evaluating done!\")\n"
   ]
  },
  {
   "cell_type": "code",
   "execution_count": 3,
   "metadata": {},
   "outputs": [
    {
     "name": "stdout",
     "output_type": "stream",
     "text": [
      "AUC: 0.8757\n",
      "Acc: 0.8757\n",
      "F1: 0.8758\n"
     ]
    }
   ],
   "source": [
    "from sklearn.metrics import roc_auc_score, accuracy_score, f1_score\n",
    "\n",
    "print(f\"AUC: {roc_auc_score(val_targets, val_preds):.4f}\")\n",
    "print(f\"Acc: {accuracy_score(val_targets, val_preds):.4f}\")\n",
    "print(f\"F1: {f1_score(val_targets, val_preds):.4f}\")\n"
   ]
  },
  {
   "cell_type": "code",
   "execution_count": 4,
   "metadata": {},
   "outputs": [
    {
     "data": {
      "image/png": "[encoded data removed]",
      "text/plain": [
       "<Figure size 640x480 with 2 Axes>"
      ]
     },
     "metadata": {},
     "output_type": "display_data"
    }
   ],
   "source": [
    "from sklearn.metrics import confusion_matrix, ConfusionMatrixDisplay\n",
    "\n",
    "cm = confusion_matrix(val_targets, val_preds)\n",
    "\n",
    "cm_display = ConfusionMatrixDisplay(cm).plot()\n",
    "\n",
    "# plt.savefig(\"figures/cm_display.png\", dpi=100, bbox_inches=\"tight\")"
   ]
  },
  {
   "attachments": {},
   "cell_type": "markdown",
   "metadata": {},
   "source": [
    "## Résultats\n",
    "\n",
    "Entrainé sur 50% de la totalité des données avec un rapport train/test 60/40. Validation sur la totalité :\n",
    "\n",
    "|     | freefield | warbrl | birdvox | ensemble |\n",
    "|-----|:---------:|:------:|:-------:|:--------:|\n",
    "| AUC | 0.8274    | 0.7827 | 0.8316  | 0.8372   |\n",
    "| Acc | 0.8433    | 0.8440 | 0.8315  | 0.8368   |\n",
    "| F1  | 0.7187    | 0.8974 | 0.8111  | 0.8302   |\n",
    "\n",
    "Entrainé sur 100% de la totalité des données avec un rapport train/test 80/20. Validation sur la totalité :\n",
    "\n",
    "|     | freefield | warbrl | birdvox | ensemble |\n",
    "|-----|:---------:|:------:|:-------:|:--------:|\n",
    "| AUC | 0.8395    | 0.8177 | 0.8904  | 0.8757   |\n",
    "| Acc | 0.8315    | 0.8816 | 0.8902  | 0.8757   |\n",
    "| F1  | 0.7187    | 0.9233 | 0.8832  | 0.8758   |"
   ]
  },
  {
   "cell_type": "markdown",
   "metadata": {},
   "source": []
  },
  {
   "cell_type": "markdown",
   "metadata": {},
   "source": []
  }
 ],
 "metadata": {
  "kernelspec": {
   "display_name": "base",
   "language": "python",
   "name": "python3"
  },
  "language_info": {
   "codemirror_mode": {
    "name": "ipython",
    "version": 3
   },
   "file_extension": ".py",
   "mimetype": "text/x-python",
   "name": "python",
   "nbconvert_exporter": "python",
   "pygments_lexer": "ipython3",
   "version": "3.9.13"
  },
  "orig_nbformat": 4
 },
 "nbformat": 4,
 "nbformat_minor": 2
}
